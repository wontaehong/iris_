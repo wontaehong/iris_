{
 "cells": [
  {
   "cell_type": "markdown",
   "metadata": {},
   "source": [
    "# 교차 검증(cross-validation)"
   ]
  },
  {
   "cell_type": "markdown",
   "metadata": {},
   "source": [
    "## 예제 데이터셋(샘플 6개, 클래스 2개)"
   ]
  },
  {
   "cell_type": "code",
   "execution_count": 5,
   "metadata": {},
   "outputs": [
    {
     "data": {
      "text/html": [
       "<div>\n",
       "<style scoped>\n",
       "    .dataframe tbody tr th:only-of-type {\n",
       "        vertical-align: middle;\n",
       "    }\n",
       "\n",
       "    .dataframe tbody tr th {\n",
       "        vertical-align: top;\n",
       "    }\n",
       "\n",
       "    .dataframe thead th {\n",
       "        text-align: right;\n",
       "    }\n",
       "</style>\n",
       "<table border=\"1\" class=\"dataframe\">\n",
       "  <thead>\n",
       "    <tr style=\"text-align: right;\">\n",
       "      <th></th>\n",
       "      <th>X</th>\n",
       "      <th>Y</th>\n",
       "    </tr>\n",
       "  </thead>\n",
       "  <tbody>\n",
       "    <tr>\n",
       "      <th>0</th>\n",
       "      <td>D0</td>\n",
       "      <td>0</td>\n",
       "    </tr>\n",
       "    <tr>\n",
       "      <th>1</th>\n",
       "      <td>D1</td>\n",
       "      <td>0</td>\n",
       "    </tr>\n",
       "    <tr>\n",
       "      <th>2</th>\n",
       "      <td>D2</td>\n",
       "      <td>0</td>\n",
       "    </tr>\n",
       "    <tr>\n",
       "      <th>3</th>\n",
       "      <td>D3</td>\n",
       "      <td>1</td>\n",
       "    </tr>\n",
       "    <tr>\n",
       "      <th>4</th>\n",
       "      <td>D4</td>\n",
       "      <td>1</td>\n",
       "    </tr>\n",
       "    <tr>\n",
       "      <th>5</th>\n",
       "      <td>D5</td>\n",
       "      <td>1</td>\n",
       "    </tr>\n",
       "  </tbody>\n",
       "</table>\n",
       "</div>"
      ],
      "text/plain": [
       "    X  Y\n",
       "0  D0  0\n",
       "1  D1  0\n",
       "2  D2  0\n",
       "3  D3  1\n",
       "4  D4  1\n",
       "5  D5  1"
      ]
     },
     "execution_count": 5,
     "metadata": {},
     "output_type": "execute_result"
    }
   ],
   "source": [
    "import pandas as pd\n",
    "X = [\"D0\", \"D1\", \"D2\", \"D3\", \"D4\", \"D5\"]\n",
    "y = [0, 0, 0, 1, 1, 1]\n",
    "df = pd.DataFrame(data= {'X':X, 'Y':y})\n",
    "df"
   ]
  },
  {
   "attachments": {},
   "cell_type": "markdown",
   "metadata": {},
   "source": [
    "## df.iloc[인덱스리스트1,인덱스리스트2]\n",
    "dataframe df로부터 인덱스리스트1 행과 인덱스리스트2 열을 추출한 새로운 dataframe을 생성한다."
   ]
  },
  {
   "cell_type": "code",
   "execution_count": 16,
   "metadata": {},
   "outputs": [
    {
     "name": "stdout",
     "output_type": "stream",
     "text": [
      "train_data\n",
      "   sepal length (cm)  sepal width (cm)  petal length (cm)  petal width (cm)  \\\n",
      "2                4.7               3.2                1.3               0.2   \n",
      "3                4.6               3.1                1.5               0.2   \n",
      "4                5.0               3.6                1.4               0.2   \n",
      "5                5.4               3.9                1.7               0.4   \n",
      "\n",
      "   target  \n",
      "2  setosa  \n",
      "3  setosa  \n",
      "4  setosa  \n",
      "5  setosa  \n",
      "\n",
      "test_data\n",
      "   sepal length (cm)  sepal width (cm)  petal length (cm)  petal width (cm)  \\\n",
      "0                5.1               3.5                1.4               0.2   \n",
      "1                4.9               3.0                1.4               0.2   \n",
      "\n",
      "   target  \n",
      "0  setosa  \n",
      "1  setosa  \n"
     ]
    }
   ],
   "source": [
    "train_idx=[2,3,4,5]\n",
    "test_idx=[0,1]\n",
    "train_idx\n",
    "test_idx\n",
    "train_data=df.iloc[train_idx,:]\n",
    "test_data=df.iloc[test_idx,:]\n",
    "print(\"train_data\")\n",
    "print(train_data)\n",
    "print(\"\")\n",
    "print(\"test_data\")\n",
    "print(test_data)\n",
    "# 이후로 train_data로 학습하고, test_data로 평가한다."
   ]
  },
  {
   "cell_type": "markdown",
   "metadata": {},
   "source": [
    "## K겹 교차검증(K-fold cross validation)\n",
    "전체 데이터 셋을 K등분 부분집합으로 나누고, K-1개 부분집합은 훈련 데이터 셋으로, 1개 부분집합은 테스트 데이터 셋으로 할당한다. (K번 횟수만큼 교차검증을 반복한다.)"
   ]
  },
  {
   "cell_type": "code",
   "execution_count": 3,
   "metadata": {},
   "outputs": [
    {
     "name": "stdout",
     "output_type": "stream",
     "text": [
      "train\t\ttest\n",
      "[2 3 4 5]\t[0 1]\n",
      "[0 1 4 5]\t[2 3]\n",
      "[0 1 2 3]\t[4 5]\n"
     ]
    }
   ],
   "source": [
    "from sklearn.model_selection import KFold\n",
    "X = [\"D0\", \"D1\", \"D2\", \"D3\", \"D4\", \"D5\"]\n",
    "kf = KFold(n_splits=3)\n",
    "print(\"train\\t\\ttest\")\n",
    "for train_idx, test_idx in kf.split(X):\n",
    "    print(\"%s\\t%s\" % (train_idx, test_idx))\n",
    "    train_data=df.iloc[train_idx,:]\n",
    "    test_data=df.iloc[test_idx,:]\n",
    "    # 이후로 train_data로 학습하고, test_data로 평가한다."
   ]
  },
  {
   "cell_type": "markdown",
   "metadata": {},
   "source": [
    "## 계층화 K겹 교차검증(stratified K-fold cross validation)\n",
    "전체 데이터 셋을 K등분 부분집합으로 나누고, K-1개 부분집합은 훈련 데이터 셋으로, 1개 부분집합은 테스트 데이터 셋으로 할당한다.\n",
    "특히, 클래스 각각에 대해서 K 등분으로 나누어, 훈련/테스트 데이터 셋에서 클래스의 비율이 유지되도록 한다. (K번 횟수만큼 교차검증을 반복한다.)"
   ]
  },
  {
   "cell_type": "code",
   "execution_count": 4,
   "metadata": {},
   "outputs": [
    {
     "name": "stdout",
     "output_type": "stream",
     "text": [
      "train\t\ttest\n",
      "[1 2 4 5]\t[0 3]\n",
      "[0 2 3 5]\t[1 4]\n",
      "[0 1 3 4]\t[2 5]\n"
     ]
    }
   ],
   "source": [
    "from sklearn.model_selection import StratifiedKFold\n",
    "X = [\"D0\", \"D1\", \"D2\", \"D3\", \"D4\", \"D5\"]\n",
    "y = [0, 0, 0, 1, 1, 1]\n",
    "skf = StratifiedKFold(n_splits=3)\n",
    "print(\"train\\t\\ttest\")\n",
    "for train_idx, test_idx in skf.split(X,y):\n",
    "    print(\"%s\\t%s\" % (train_idx, test_idx))\n",
    "    train_data=df.iloc[train_idx,:]\n",
    "    test_data=df.iloc[test_idx,:]\n",
    "    # 이후로 train_data로 학습하고, test_data로 평가한다."
   ]
  },
  {
   "cell_type": "markdown",
   "metadata": {},
   "source": [
    "## 셔플 분할(shuffle split cross validation)\n",
    "전체 데이터 셋을 무작위 추출하여 훈련/테스트 데이터 셋으로 나눈다. (사용자가 지정한 횟수만큼 교차검증을 반복한다.)"
   ]
  },
  {
   "cell_type": "code",
   "execution_count": 5,
   "metadata": {},
   "outputs": [
    {
     "name": "stdout",
     "output_type": "stream",
     "text": [
      "train\t\ttest\n",
      "[1 3 0 4]\t[5 2]\n",
      "[4 0 2 5]\t[1 3]\n",
      "[1 2 4 0]\t[3 5]\n",
      "[3 4 1 0]\t[5 2]\n",
      "[3 5 1 0]\t[2 4]\n"
     ]
    }
   ],
   "source": [
    "from sklearn.model_selection import ShuffleSplit\n",
    "X = [\"D0\", \"D1\", \"D2\", \"D3\", \"D4\", \"D5\"]\n",
    "ss = ShuffleSplit(n_splits=5, test_size=0.33, random_state=0)\n",
    "print(\"train\\t\\ttest\")\n",
    "for train_idx, test_idx in ss.split(X):\n",
    "    print(\"%s\\t%s\" % (train_idx, test_idx))\n",
    "    train_data=df.iloc[train_idx,:]\n",
    "    test_data=df.iloc[test_idx,:]\n",
    "    # 이후로 train_data로 학습하고, test_data로 평가한다."
   ]
  },
  {
   "cell_type": "markdown",
   "metadata": {},
   "source": [
    "## 계층적 셔플 분할(stratified shuffle split cross validation)\n",
    "전체 데이터 셋을 무작위 추출하여 훈련/테스트 데이터 셋으로 나눈다. 특히, 클래스 각각에 대해서 셔플 분할하여 클래스의 비율이 유지되도록 한다. (사용자가 지정한 횟수만큼 교차검증을 반복한다.)"
   ]
  },
  {
   "cell_type": "code",
   "execution_count": 6,
   "metadata": {},
   "outputs": [
    {
     "name": "stdout",
     "output_type": "stream",
     "text": [
      "train\t\ttest\n",
      "[2 5 1 3]\t[0 4]\n",
      "[0 4 3 1]\t[2 5]\n",
      "[0 4 3 1]\t[2 5]\n",
      "[5 4 1 2]\t[0 3]\n",
      "[1 5 2 4]\t[0 3]\n"
     ]
    }
   ],
   "source": [
    "from sklearn.model_selection import StratifiedShuffleSplit\n",
    "X = [\"D0\", \"D1\", \"D2\", \"D3\", \"D4\", \"D5\"]\n",
    "y = [0, 0, 0, 1, 1, 1]\n",
    "sss = StratifiedShuffleSplit(n_splits=5, test_size=0.33, random_state=0)\n",
    "print(\"train\\t\\ttest\")\n",
    "for train_idx, test_idx in sss.split(X, y):\n",
    "    print(\"%s\\t%s\" % (train_idx, test_idx))\n",
    "    train_data=df.iloc[train_idx,:]\n",
    "    test_data=df.iloc[test_idx,:]\n",
    "    # 이후로 train_data로 학습하고, test_data로 평가한다."
   ]
  },
  {
   "cell_type": "markdown",
   "metadata": {},
   "source": [
    "## Leave-one-out 교차검증\n",
    "전체 N개 샘플 데이터 셋을 N-1개의 학습 데이터셋과 1개의 테스트 데이터셋으로 나눈다. (N번 횟수만큼 교차검증을 반복한다.)"
   ]
  },
  {
   "cell_type": "code",
   "execution_count": 7,
   "metadata": {},
   "outputs": [
    {
     "name": "stdout",
     "output_type": "stream",
     "text": [
      "train\t\ttest\n",
      "[1 2 3 4 5]\t[0]\n",
      "[0 2 3 4 5]\t[1]\n",
      "[0 1 3 4 5]\t[2]\n",
      "[0 1 2 4 5]\t[3]\n",
      "[0 1 2 3 5]\t[4]\n",
      "[0 1 2 3 4]\t[5]\n"
     ]
    }
   ],
   "source": [
    "from sklearn.model_selection import LeaveOneOut\n",
    "X = [\"D0\", \"D1\", \"D2\", \"D3\", \"D4\", \"D5\"]\n",
    "loo = LeaveOneOut()\n",
    "print(\"train\\t\\ttest\")\n",
    "for train_idx, test_idx in loo.split(X):\n",
    "    print(\"%s\\t%s\" % (train_idx, test_idx))\n",
    "    train_data=df.iloc[train_idx,:]\n",
    "    test_data=df.iloc[test_idx,:]\n",
    "    # 이후로 train_data로 학습하고, test_data로 평가한다."
   ]
  },
  {
   "cell_type": "markdown",
   "metadata": {},
   "source": [
    "## Leave-p-out 교차검증\n",
    "전체 N개 샘플 데이터 셋을 N-p개의 학습 데이터셋과 p개의 테스트 데이터셋으로 나눈다. (NCp번 횟수만큼 교차검증을 반복한다.)"
   ]
  },
  {
   "cell_type": "code",
   "execution_count": 8,
   "metadata": {},
   "outputs": [
    {
     "name": "stdout",
     "output_type": "stream",
     "text": [
      "train\t\ttest\n",
      "[2 3 4 5]\t[0 1]\n",
      "[1 3 4 5]\t[0 2]\n",
      "[1 2 4 5]\t[0 3]\n",
      "[1 2 3 5]\t[0 4]\n",
      "[1 2 3 4]\t[0 5]\n",
      "[0 3 4 5]\t[1 2]\n",
      "[0 2 4 5]\t[1 3]\n",
      "[0 2 3 5]\t[1 4]\n",
      "[0 2 3 4]\t[1 5]\n",
      "[0 1 4 5]\t[2 3]\n",
      "[0 1 3 5]\t[2 4]\n",
      "[0 1 3 4]\t[2 5]\n",
      "[0 1 2 5]\t[3 4]\n",
      "[0 1 2 4]\t[3 5]\n",
      "[0 1 2 3]\t[4 5]\n"
     ]
    }
   ],
   "source": [
    "from sklearn.model_selection import LeavePOut\n",
    "X = [\"D0\", \"D1\", \"D2\", \"D3\", \"D4\", \"D5\"]\n",
    "lpo = LeavePOut(p=2)\n",
    "print(\"train\\t\\ttest\")\n",
    "for train_idx, test_idx in lpo.split(X):\n",
    "    print(\"%s\\t%s\" % (train_idx, test_idx))\n",
    "    train_data=df.iloc[train_idx,:]\n",
    "    test_data=df.iloc[test_idx,:]\n",
    "    # 이후로 train_data로 학습하고, test_data로 평가한다."
   ]
  },
  {
   "cell_type": "markdown",
   "metadata": {},
   "source": [
    "# Iris data 교차검증 분석"
   ]
  },
  {
   "cell_type": "markdown",
   "metadata": {},
   "source": [
    "## 데이터 불러오기\n",
    "pandas dataframe으로 iris 데이터를 불러온다."
   ]
  },
  {
   "cell_type": "code",
   "execution_count": 15,
   "metadata": {},
   "outputs": [],
   "source": [
    "from sklearn.datasets import load_iris # scikit-learn의 샘플 데이터 로드를 위해 import\n",
    "import pandas as pd # 데이터 프레임으로 변환을 위해 임포트\n",
    "import numpy as np # 고수학 연산을 위해 임포트\n",
    "\n",
    "iris = load_iris() # sample data load\n",
    "\n",
    "# np.c_ is the numpy concatenate function\n",
    "df = pd.DataFrame(data= np.c_[iris['data'], iris['target']],\n",
    "                     columns= iris['feature_names'] + ['target'])\n",
    "\n",
    "# 0.0, 1.0, 2.0으로 표현된 label을 문자열로 매핑\n",
    "df['target'] = df['target'].map({0:\"setosa\", 1:\"versicolor\", 2:\"virginica\"})"
   ]
  },
  {
   "cell_type": "markdown",
   "metadata": {},
   "source": [
    "## 데이터 둘러보기\n",
    "상위 10개 샘플의 데이터를 출력한다 "
   ]
  },
  {
   "cell_type": "code",
   "execution_count": 10,
   "metadata": {},
   "outputs": [
    {
     "data": {
      "text/html": [
       "<div>\n",
       "<style scoped>\n",
       "    .dataframe tbody tr th:only-of-type {\n",
       "        vertical-align: middle;\n",
       "    }\n",
       "\n",
       "    .dataframe tbody tr th {\n",
       "        vertical-align: top;\n",
       "    }\n",
       "\n",
       "    .dataframe thead th {\n",
       "        text-align: right;\n",
       "    }\n",
       "</style>\n",
       "<table border=\"1\" class=\"dataframe\">\n",
       "  <thead>\n",
       "    <tr style=\"text-align: right;\">\n",
       "      <th></th>\n",
       "      <th>sepal length (cm)</th>\n",
       "      <th>sepal width (cm)</th>\n",
       "      <th>petal length (cm)</th>\n",
       "      <th>petal width (cm)</th>\n",
       "      <th>target</th>\n",
       "    </tr>\n",
       "  </thead>\n",
       "  <tbody>\n",
       "    <tr>\n",
       "      <th>0</th>\n",
       "      <td>5.1</td>\n",
       "      <td>3.5</td>\n",
       "      <td>1.4</td>\n",
       "      <td>0.2</td>\n",
       "      <td>setosa</td>\n",
       "    </tr>\n",
       "    <tr>\n",
       "      <th>1</th>\n",
       "      <td>4.9</td>\n",
       "      <td>3.0</td>\n",
       "      <td>1.4</td>\n",
       "      <td>0.2</td>\n",
       "      <td>setosa</td>\n",
       "    </tr>\n",
       "    <tr>\n",
       "      <th>2</th>\n",
       "      <td>4.7</td>\n",
       "      <td>3.2</td>\n",
       "      <td>1.3</td>\n",
       "      <td>0.2</td>\n",
       "      <td>setosa</td>\n",
       "    </tr>\n",
       "    <tr>\n",
       "      <th>3</th>\n",
       "      <td>4.6</td>\n",
       "      <td>3.1</td>\n",
       "      <td>1.5</td>\n",
       "      <td>0.2</td>\n",
       "      <td>setosa</td>\n",
       "    </tr>\n",
       "    <tr>\n",
       "      <th>4</th>\n",
       "      <td>5.0</td>\n",
       "      <td>3.6</td>\n",
       "      <td>1.4</td>\n",
       "      <td>0.2</td>\n",
       "      <td>setosa</td>\n",
       "    </tr>\n",
       "    <tr>\n",
       "      <th>5</th>\n",
       "      <td>5.4</td>\n",
       "      <td>3.9</td>\n",
       "      <td>1.7</td>\n",
       "      <td>0.4</td>\n",
       "      <td>setosa</td>\n",
       "    </tr>\n",
       "    <tr>\n",
       "      <th>6</th>\n",
       "      <td>4.6</td>\n",
       "      <td>3.4</td>\n",
       "      <td>1.4</td>\n",
       "      <td>0.3</td>\n",
       "      <td>setosa</td>\n",
       "    </tr>\n",
       "    <tr>\n",
       "      <th>7</th>\n",
       "      <td>5.0</td>\n",
       "      <td>3.4</td>\n",
       "      <td>1.5</td>\n",
       "      <td>0.2</td>\n",
       "      <td>setosa</td>\n",
       "    </tr>\n",
       "    <tr>\n",
       "      <th>8</th>\n",
       "      <td>4.4</td>\n",
       "      <td>2.9</td>\n",
       "      <td>1.4</td>\n",
       "      <td>0.2</td>\n",
       "      <td>setosa</td>\n",
       "    </tr>\n",
       "    <tr>\n",
       "      <th>9</th>\n",
       "      <td>4.9</td>\n",
       "      <td>3.1</td>\n",
       "      <td>1.5</td>\n",
       "      <td>0.1</td>\n",
       "      <td>setosa</td>\n",
       "    </tr>\n",
       "  </tbody>\n",
       "</table>\n",
       "</div>"
      ],
      "text/plain": [
       "   sepal length (cm)  sepal width (cm)  petal length (cm)  petal width (cm)  \\\n",
       "0                5.1               3.5                1.4               0.2   \n",
       "1                4.9               3.0                1.4               0.2   \n",
       "2                4.7               3.2                1.3               0.2   \n",
       "3                4.6               3.1                1.5               0.2   \n",
       "4                5.0               3.6                1.4               0.2   \n",
       "5                5.4               3.9                1.7               0.4   \n",
       "6                4.6               3.4                1.4               0.3   \n",
       "7                5.0               3.4                1.5               0.2   \n",
       "8                4.4               2.9                1.4               0.2   \n",
       "9                4.9               3.1                1.5               0.1   \n",
       "\n",
       "   target  \n",
       "0  setosa  \n",
       "1  setosa  \n",
       "2  setosa  \n",
       "3  setosa  \n",
       "4  setosa  \n",
       "5  setosa  \n",
       "6  setosa  \n",
       "7  setosa  \n",
       "8  setosa  \n",
       "9  setosa  "
      ]
     },
     "execution_count": 10,
     "metadata": {},
     "output_type": "execute_result"
    }
   ],
   "source": [
    "df.head(n=10)"
   ]
  },
  {
   "cell_type": "markdown",
   "metadata": {},
   "source": [
    "## 머신러닝 K-fold 교차 검증(cross validation)\n",
    "iris 데이터를 5-fold 교차검증으로 8개 모델을 학습하고 예측하여 평가한다."
   ]
  },
  {
   "cell_type": "markdown",
   "metadata": {},
   "source": [
    "### 1. Logistic Regression"
   ]
  },
  {
   "cell_type": "code",
   "execution_count": 11,
   "metadata": {
    "scrolled": true
   },
   "outputs": [
    {
     "data": {
      "text/plain": [
       "[[0,\n",
       "  'LogisticRegression',\n",
       "  0.9666666666666667,\n",
       "  0.9666666666666667,\n",
       "  0.04384899139404297],\n",
       " [1, 'LogisticRegression', 0.9666666666666667, 1.0, 0.04488205909729004],\n",
       " [2,\n",
       "  'LogisticRegression',\n",
       "  0.9833333333333333,\n",
       "  0.9333333333333333,\n",
       "  0.040892601013183594],\n",
       " [3,\n",
       "  'LogisticRegression',\n",
       "  0.9833333333333333,\n",
       "  0.9666666666666667,\n",
       "  0.03291440010070801],\n",
       " [4, 'LogisticRegression', 0.975, 1.0, 0.03387784957885742]]"
      ]
     },
     "execution_count": 11,
     "metadata": {},
     "output_type": "execute_result"
    }
   ],
   "source": [
    "from sklearn.model_selection import StratifiedKFold\n",
    "from sklearn.metrics import accuracy_score\n",
    "import time\n",
    "\n",
    "results=[]\n",
    "X = df.iloc[:,:-1]\n",
    "y = df.iloc[:,-1]\n",
    "i=0\n",
    "skf = StratifiedKFold(n_splits=5)\n",
    "for train_idx, test_idx in skf.split(X,y):\n",
    "    x_train = df.iloc[train_idx,:-1]\n",
    "    y_train = df.iloc[train_idx,-1]\n",
    "    x_test = df.iloc[test_idx,:-1]\n",
    "    y_test = df.iloc[test_idx,-1]\n",
    "    # 1. Logistic regression    \n",
    "    from sklearn.linear_model import LogisticRegression\n",
    "    model = LogisticRegression(max_iter=1000)\n",
    "    start_time = time.time()\n",
    "    model.fit(x_train, y_train)\n",
    "    training_time = time.time() - start_time\n",
    "    y_pred_train = model.predict(x_train)\n",
    "    y_pred_test = model.predict(x_test)\n",
    "    accuracy_train = accuracy_score(y_train, y_pred_train)\n",
    "    accuracy_test = accuracy_score(y_test, y_pred_test)\n",
    "    results.append([i,'LogisticRegression',accuracy_train,accuracy_test, training_time])\n",
    "    i+=1\n",
    "results[-5:]"
   ]
  },
  {
   "cell_type": "markdown",
   "metadata": {},
   "source": [
    "### 2. Decision tree"
   ]
  },
  {
   "cell_type": "code",
   "execution_count": 12,
   "metadata": {},
   "outputs": [
    {
     "data": {
      "text/plain": [
       "[[0, 'DecisionTree', 1.0, 0.9666666666666667, 0.002988576889038086],\n",
       " [1, 'DecisionTree', 1.0, 0.9666666666666667, 0.0019965171813964844],\n",
       " [2, 'DecisionTree', 1.0, 0.9, 0.0019958019256591797],\n",
       " [3, 'DecisionTree', 1.0, 0.9666666666666667, 0.001963376998901367],\n",
       " [4, 'DecisionTree', 1.0, 1.0, 0.001991748809814453]]"
      ]
     },
     "execution_count": 12,
     "metadata": {},
     "output_type": "execute_result"
    }
   ],
   "source": [
    "from sklearn.model_selection import StratifiedKFold\n",
    "from sklearn.metrics import accuracy_score\n",
    "\n",
    "X = df.iloc[:,:-1]\n",
    "y = df.iloc[:,-1]\n",
    "i=0\n",
    "skf = StratifiedKFold(n_splits=5)\n",
    "for train_idx, test_idx in skf.split(X,y):\n",
    "    x_train = df.iloc[train_idx,:-1]\n",
    "    y_train = df.iloc[train_idx,-1]\n",
    "    x_test = df.iloc[test_idx,:-1]\n",
    "    y_test = df.iloc[test_idx,-1]\n",
    "    # 2. Decision tree\n",
    "    from sklearn.tree import DecisionTreeClassifier\n",
    "    model = DecisionTreeClassifier()\n",
    "    start_time = time.time()    \n",
    "    model.fit(x_train, y_train)\n",
    "    training_time = time.time() - start_time    \n",
    "    y_pred_train = model.predict(x_train)\n",
    "    y_pred_test = model.predict(x_test)\n",
    "    accuracy_train = accuracy_score(y_train, y_pred_train)\n",
    "    accuracy_test = accuracy_score(y_test, y_pred_test)\n",
    "    results.append([i,'DecisionTree',accuracy_train,accuracy_test, training_time])\n",
    "    i+=1\n",
    "results[-5:]"
   ]
  },
  {
   "cell_type": "markdown",
   "metadata": {},
   "source": [
    "### 3. Support vector machine"
   ]
  },
  {
   "cell_type": "code",
   "execution_count": 13,
   "metadata": {},
   "outputs": [
    {
     "data": {
      "text/plain": [
       "[[0,\n",
       "  'SupportVectorMachine',\n",
       "  0.9833333333333333,\n",
       "  0.9666666666666667,\n",
       "  0.0029916763305664062],\n",
       " [1,\n",
       "  'SupportVectorMachine',\n",
       "  0.9583333333333334,\n",
       "  0.9666666666666667,\n",
       "  0.003989458084106445],\n",
       " [2,\n",
       "  'SupportVectorMachine',\n",
       "  0.9833333333333333,\n",
       "  0.9666666666666667,\n",
       "  0.003989219665527344],\n",
       " [3,\n",
       "  'SupportVectorMachine',\n",
       "  0.9833333333333333,\n",
       "  0.9333333333333333,\n",
       "  0.003996133804321289],\n",
       " [4, 'SupportVectorMachine', 0.9583333333333334, 1.0, 0.001993894577026367]]"
      ]
     },
     "execution_count": 13,
     "metadata": {},
     "output_type": "execute_result"
    }
   ],
   "source": [
    "from sklearn.model_selection import StratifiedKFold\n",
    "from sklearn.metrics import accuracy_score\n",
    "\n",
    "X = df.iloc[:,:-1]\n",
    "y = df.iloc[:,-1]\n",
    "i=0\n",
    "skf = StratifiedKFold(n_splits=5)\n",
    "for train_idx, test_idx in skf.split(X,y):\n",
    "    x_train = df.iloc[train_idx,:-1]\n",
    "    y_train = df.iloc[train_idx,-1]\n",
    "    x_test = df.iloc[test_idx,:-1]\n",
    "    y_test = df.iloc[test_idx,-1]\n",
    "    # 3. Support vector machine\n",
    "    from sklearn.svm import SVC\n",
    "    model = SVC()\n",
    "    start_time = time.time()\n",
    "    model.fit(x_train, y_train)\n",
    "    training_time = time.time() - start_time\n",
    "    y_pred_train = model.predict(x_train)\n",
    "    y_pred_test = model.predict(x_test)\n",
    "    accuracy_train = accuracy_score(y_train, y_pred_train)\n",
    "    accuracy_test = accuracy_score(y_test, y_pred_test)\n",
    "    results.append([i,'SupportVectorMachine',accuracy_train,accuracy_test, training_time])\n",
    "    i+=1\n",
    "results[-5:]"
   ]
  },
  {
   "cell_type": "markdown",
   "metadata": {},
   "source": [
    "### 4. Gaussian naive bayes"
   ]
  },
  {
   "cell_type": "code",
   "execution_count": 14,
   "metadata": {},
   "outputs": [
    {
     "data": {
      "text/plain": [
       "[[0,\n",
       "  'GaussianNaiveBayes',\n",
       "  0.9666666666666667,\n",
       "  0.9333333333333333,\n",
       "  0.002994060516357422],\n",
       " [1,\n",
       "  'GaussianNaiveBayes',\n",
       "  0.9583333333333334,\n",
       "  0.9666666666666667,\n",
       "  0.0029921531677246094],\n",
       " [2,\n",
       "  'GaussianNaiveBayes',\n",
       "  0.9583333333333334,\n",
       "  0.9333333333333333,\n",
       "  0.00398707389831543],\n",
       " [3,\n",
       "  'GaussianNaiveBayes',\n",
       "  0.9666666666666667,\n",
       "  0.9333333333333333,\n",
       "  0.002991199493408203],\n",
       " [4, 'GaussianNaiveBayes', 0.9583333333333334, 1.0, 0.004004955291748047]]"
      ]
     },
     "execution_count": 14,
     "metadata": {},
     "output_type": "execute_result"
    }
   ],
   "source": [
    "from sklearn.model_selection import StratifiedKFold\n",
    "from sklearn.metrics import accuracy_score\n",
    "\n",
    "X = df.iloc[:,:-1]\n",
    "y = df.iloc[:,-1]\n",
    "i=0\n",
    "skf = StratifiedKFold(n_splits=5)\n",
    "for train_idx, test_idx in skf.split(X,y):\n",
    "    x_train = df.iloc[train_idx,:-1]\n",
    "    y_train = df.iloc[train_idx,-1]\n",
    "    x_test = df.iloc[test_idx,:-1]\n",
    "    y_test = df.iloc[test_idx,-1]\n",
    "    # 4. Gaussian naive bayes\n",
    "    from sklearn.naive_bayes import GaussianNB\n",
    "    model = GaussianNB()\n",
    "    start_time = time.time()\n",
    "    model.fit(x_train, y_train)\n",
    "    training_time = time.time() - start_time\n",
    "    y_pred_train = model.predict(x_train)\n",
    "    y_pred_test = model.predict(x_test)\n",
    "    accuracy_train = accuracy_score(y_train, y_pred_train)\n",
    "    accuracy_test = accuracy_score(y_test, y_pred_test)\n",
    "    results.append([i,'GaussianNaiveBayes',accuracy_train,accuracy_test, training_time])    \n",
    "    i+=1\n",
    "results[-5:]"
   ]
  },
  {
   "cell_type": "markdown",
   "metadata": {},
   "source": [
    "### 5. K nearest neighbor"
   ]
  },
  {
   "cell_type": "code",
   "execution_count": 15,
   "metadata": {},
   "outputs": [
    {
     "data": {
      "text/plain": [
       "[[0,\n",
       "  'KNearestNeighbor',\n",
       "  0.9666666666666667,\n",
       "  0.9666666666666667,\n",
       "  0.0029938220977783203],\n",
       " [1, 'KNearestNeighbor', 0.9666666666666667, 1.0, 0.0029921531677246094],\n",
       " [2, 'KNearestNeighbor', 0.975, 0.9333333333333333, 0.002990245819091797],\n",
       " [3, 'KNearestNeighbor', 0.975, 0.9666666666666667, 0.0029916763305664062],\n",
       " [4, 'KNearestNeighbor', 0.9666666666666667, 1.0, 0.0029914379119873047]]"
      ]
     },
     "execution_count": 15,
     "metadata": {},
     "output_type": "execute_result"
    }
   ],
   "source": [
    "from sklearn.model_selection import StratifiedKFold\n",
    "from sklearn.metrics import accuracy_score\n",
    "\n",
    "X = df.iloc[:,:-1]\n",
    "y = df.iloc[:,-1]\n",
    "i=0\n",
    "skf = StratifiedKFold(n_splits=5)\n",
    "for train_idx, test_idx in skf.split(X,y):\n",
    "    x_train = df.iloc[train_idx,:-1]\n",
    "    y_train = df.iloc[train_idx,-1]\n",
    "    x_test = df.iloc[test_idx,:-1]\n",
    "    y_test = df.iloc[test_idx,-1]\n",
    "    # 5. K nearest neighbor\n",
    "    from sklearn.neighbors import KNeighborsClassifier\n",
    "    model = KNeighborsClassifier()\n",
    "    start_time = time.time()\n",
    "    model.fit(x_train, y_train)\n",
    "    training_time = time.time() - start_time\n",
    "    y_pred_train = model.predict(x_train)\n",
    "    y_pred_test = model.predict(x_test)\n",
    "    accuracy_train = accuracy_score(y_train, y_pred_train)\n",
    "    accuracy_test = accuracy_score(y_test, y_pred_test)\n",
    "    results.append([i,'KNearestNeighbor',accuracy_train,accuracy_test, training_time])\n",
    "    i+=1\n",
    "results[-5:]"
   ]
  },
  {
   "cell_type": "markdown",
   "metadata": {},
   "source": [
    "### 6. Random forest"
   ]
  },
  {
   "cell_type": "code",
   "execution_count": 16,
   "metadata": {},
   "outputs": [
    {
     "data": {
      "text/plain": [
       "[[0, 'RandomForest', 1.0, 0.9666666666666667, 0.1954798698425293],\n",
       " [1, 'RandomForest', 1.0, 0.9666666666666667, 0.17752671241760254],\n",
       " [2, 'RandomForest', 1.0, 0.9333333333333333, 0.17652487754821777],\n",
       " [3, 'RandomForest', 1.0, 0.9333333333333333, 0.17456698417663574],\n",
       " [4, 'RandomForest', 1.0, 1.0, 0.2024097442626953]]"
      ]
     },
     "execution_count": 16,
     "metadata": {},
     "output_type": "execute_result"
    }
   ],
   "source": [
    "from sklearn.model_selection import StratifiedKFold\n",
    "from sklearn.metrics import accuracy_score\n",
    "\n",
    "X = df.iloc[:,:-1]\n",
    "y = df.iloc[:,-1]\n",
    "i=0\n",
    "skf = StratifiedKFold(n_splits=5)\n",
    "for train_idx, test_idx in skf.split(X,y):\n",
    "    x_train = df.iloc[train_idx,:-1]\n",
    "    y_train = df.iloc[train_idx,-1]\n",
    "    x_test = df.iloc[test_idx,:-1]\n",
    "    y_test = df.iloc[test_idx,-1]\n",
    "    # 6. Random forest\n",
    "    from sklearn.ensemble import RandomForestClassifier\n",
    "    model = RandomForestClassifier()\n",
    "    start_time = time.time()\n",
    "    model.fit(x_train, y_train)\n",
    "    training_time = time.time() - start_time\n",
    "    y_pred_train = model.predict(x_train)\n",
    "    y_pred_test = model.predict(x_test)\n",
    "    accuracy_train = accuracy_score(y_train, y_pred_train)\n",
    "    accuracy_test = accuracy_score(y_test, y_pred_test)\n",
    "    results.append([i,'RandomForest',accuracy_train,accuracy_test, training_time])\n",
    "    i+=1\n",
    "results[-5:]"
   ]
  },
  {
   "cell_type": "markdown",
   "metadata": {},
   "source": [
    "### 7. Gradient boosing"
   ]
  },
  {
   "cell_type": "code",
   "execution_count": 17,
   "metadata": {},
   "outputs": [
    {
     "data": {
      "text/plain": [
       "[[0, 'GradientBoosing', 1.0, 0.9666666666666667, 0.34862279891967773],\n",
       " [1, 'GradientBoosing', 1.0, 0.9666666666666667, 0.33792543411254883],\n",
       " [2, 'GradientBoosing', 1.0, 0.9, 0.29320645332336426],\n",
       " [3, 'GradientBoosing', 1.0, 0.9666666666666667, 0.2712743282318115],\n",
       " [4, 'GradientBoosing', 1.0, 1.0, 0.27722930908203125]]"
      ]
     },
     "execution_count": 17,
     "metadata": {},
     "output_type": "execute_result"
    }
   ],
   "source": [
    "from sklearn.model_selection import StratifiedKFold\n",
    "from sklearn.metrics import accuracy_score\n",
    "\n",
    "X = df.iloc[:,:-1]\n",
    "y = df.iloc[:,-1]\n",
    "i=0\n",
    "skf = StratifiedKFold(n_splits=5)\n",
    "for train_idx, test_idx in skf.split(X,y):\n",
    "    x_train = df.iloc[train_idx,:-1]\n",
    "    y_train = df.iloc[train_idx,-1]\n",
    "    x_test = df.iloc[test_idx,:-1]\n",
    "    y_test = df.iloc[test_idx,-1]\n",
    "    # 7. Gradient boosing\n",
    "    from sklearn.ensemble import GradientBoostingClassifier\n",
    "    model = GradientBoostingClassifier()\n",
    "    start_time = time.time()\n",
    "    model.fit(x_train, y_train)\n",
    "    training_time = time.time() - start_time\n",
    "    y_pred_train = model.predict(x_train)\n",
    "    y_pred_test = model.predict(x_test)\n",
    "    accuracy_train = accuracy_score(y_train, y_pred_train)\n",
    "    accuracy_test = accuracy_score(y_test, y_pred_test)\n",
    "    results.append([i,'GradientBoosing',accuracy_train,accuracy_test, training_time])    \n",
    "    i+=1\n",
    "results[-5:]"
   ]
  },
  {
   "cell_type": "markdown",
   "metadata": {},
   "source": [
    "### 8. Neural network"
   ]
  },
  {
   "cell_type": "code",
   "execution_count": 18,
   "metadata": {},
   "outputs": [
    {
     "data": {
      "text/plain": [
       "[[0, 'NeuralNetwork', 0.9833333333333333, 1.0, 0.7349522113800049],\n",
       " [1, 'NeuralNetwork', 0.9833333333333333, 1.0, 0.7545154094696045],\n",
       " [2,\n",
       "  'NeuralNetwork',\n",
       "  0.9833333333333333,\n",
       "  0.9666666666666667,\n",
       "  0.7051150798797607],\n",
       " [3,\n",
       "  'NeuralNetwork',\n",
       "  0.9916666666666667,\n",
       "  0.9333333333333333,\n",
       "  0.7619872093200684],\n",
       " [4, 'NeuralNetwork', 0.975, 1.0, 0.7699663639068604]]"
      ]
     },
     "execution_count": 18,
     "metadata": {},
     "output_type": "execute_result"
    }
   ],
   "source": [
    "from sklearn.model_selection import StratifiedKFold\n",
    "from sklearn.metrics import accuracy_score\n",
    "\n",
    "X = df.iloc[:,:-1]\n",
    "y = df.iloc[:,-1]\n",
    "i=0\n",
    "skf = StratifiedKFold(n_splits=5)\n",
    "for train_idx, test_idx in skf.split(X,y):\n",
    "    x_train = df.iloc[train_idx,:-1]\n",
    "    y_train = df.iloc[train_idx,-1]\n",
    "    x_test = df.iloc[test_idx,:-1]\n",
    "    y_test = df.iloc[test_idx,-1]\n",
    "    # 8. Neural network\n",
    "    from sklearn.neural_network import MLPClassifier\n",
    "    model = MLPClassifier(max_iter=1000)\n",
    "    start_time = time.time()\n",
    "    model.fit(x_train, y_train)\n",
    "    training_time = time.time() - start_time\n",
    "    y_pred_train = model.predict(x_train)\n",
    "    y_pred_test = model.predict(x_test)\n",
    "    accuracy_train = accuracy_score(y_train, y_pred_train)\n",
    "    accuracy_test = accuracy_score(y_test, y_pred_test)\n",
    "    results.append([i,'NeuralNetwork',accuracy_train,accuracy_test, training_time])    \n",
    "    i+=1\n",
    "results[-5:]"
   ]
  },
  {
   "cell_type": "markdown",
   "metadata": {},
   "source": [
    "## 교차검증 결과 종합"
   ]
  },
  {
   "cell_type": "code",
   "execution_count": 19,
   "metadata": {},
   "outputs": [
    {
     "data": {
      "text/html": [
       "<div>\n",
       "<style scoped>\n",
       "    .dataframe tbody tr th:only-of-type {\n",
       "        vertical-align: middle;\n",
       "    }\n",
       "\n",
       "    .dataframe tbody tr th {\n",
       "        vertical-align: top;\n",
       "    }\n",
       "\n",
       "    .dataframe thead th {\n",
       "        text-align: right;\n",
       "    }\n",
       "</style>\n",
       "<table border=\"1\" class=\"dataframe\">\n",
       "  <thead>\n",
       "    <tr style=\"text-align: right;\">\n",
       "      <th></th>\n",
       "      <th>iter</th>\n",
       "      <th>method</th>\n",
       "      <th>accuracy_train</th>\n",
       "      <th>accuracy_test</th>\n",
       "      <th>training_time</th>\n",
       "    </tr>\n",
       "  </thead>\n",
       "  <tbody>\n",
       "    <tr>\n",
       "      <th>0</th>\n",
       "      <td>0</td>\n",
       "      <td>LogisticRegression</td>\n",
       "      <td>0.966667</td>\n",
       "      <td>0.966667</td>\n",
       "      <td>0.043849</td>\n",
       "    </tr>\n",
       "    <tr>\n",
       "      <th>1</th>\n",
       "      <td>1</td>\n",
       "      <td>LogisticRegression</td>\n",
       "      <td>0.966667</td>\n",
       "      <td>1.000000</td>\n",
       "      <td>0.044882</td>\n",
       "    </tr>\n",
       "    <tr>\n",
       "      <th>2</th>\n",
       "      <td>2</td>\n",
       "      <td>LogisticRegression</td>\n",
       "      <td>0.983333</td>\n",
       "      <td>0.933333</td>\n",
       "      <td>0.040893</td>\n",
       "    </tr>\n",
       "    <tr>\n",
       "      <th>3</th>\n",
       "      <td>3</td>\n",
       "      <td>LogisticRegression</td>\n",
       "      <td>0.983333</td>\n",
       "      <td>0.966667</td>\n",
       "      <td>0.032914</td>\n",
       "    </tr>\n",
       "    <tr>\n",
       "      <th>4</th>\n",
       "      <td>4</td>\n",
       "      <td>LogisticRegression</td>\n",
       "      <td>0.975000</td>\n",
       "      <td>1.000000</td>\n",
       "      <td>0.033878</td>\n",
       "    </tr>\n",
       "    <tr>\n",
       "      <th>5</th>\n",
       "      <td>0</td>\n",
       "      <td>DecisionTree</td>\n",
       "      <td>1.000000</td>\n",
       "      <td>0.966667</td>\n",
       "      <td>0.002989</td>\n",
       "    </tr>\n",
       "    <tr>\n",
       "      <th>6</th>\n",
       "      <td>1</td>\n",
       "      <td>DecisionTree</td>\n",
       "      <td>1.000000</td>\n",
       "      <td>0.966667</td>\n",
       "      <td>0.001997</td>\n",
       "    </tr>\n",
       "    <tr>\n",
       "      <th>7</th>\n",
       "      <td>2</td>\n",
       "      <td>DecisionTree</td>\n",
       "      <td>1.000000</td>\n",
       "      <td>0.900000</td>\n",
       "      <td>0.001996</td>\n",
       "    </tr>\n",
       "    <tr>\n",
       "      <th>8</th>\n",
       "      <td>3</td>\n",
       "      <td>DecisionTree</td>\n",
       "      <td>1.000000</td>\n",
       "      <td>0.966667</td>\n",
       "      <td>0.001963</td>\n",
       "    </tr>\n",
       "    <tr>\n",
       "      <th>9</th>\n",
       "      <td>4</td>\n",
       "      <td>DecisionTree</td>\n",
       "      <td>1.000000</td>\n",
       "      <td>1.000000</td>\n",
       "      <td>0.001992</td>\n",
       "    </tr>\n",
       "    <tr>\n",
       "      <th>10</th>\n",
       "      <td>0</td>\n",
       "      <td>SupportVectorMachine</td>\n",
       "      <td>0.983333</td>\n",
       "      <td>0.966667</td>\n",
       "      <td>0.002992</td>\n",
       "    </tr>\n",
       "    <tr>\n",
       "      <th>11</th>\n",
       "      <td>1</td>\n",
       "      <td>SupportVectorMachine</td>\n",
       "      <td>0.958333</td>\n",
       "      <td>0.966667</td>\n",
       "      <td>0.003989</td>\n",
       "    </tr>\n",
       "    <tr>\n",
       "      <th>12</th>\n",
       "      <td>2</td>\n",
       "      <td>SupportVectorMachine</td>\n",
       "      <td>0.983333</td>\n",
       "      <td>0.966667</td>\n",
       "      <td>0.003989</td>\n",
       "    </tr>\n",
       "    <tr>\n",
       "      <th>13</th>\n",
       "      <td>3</td>\n",
       "      <td>SupportVectorMachine</td>\n",
       "      <td>0.983333</td>\n",
       "      <td>0.933333</td>\n",
       "      <td>0.003996</td>\n",
       "    </tr>\n",
       "    <tr>\n",
       "      <th>14</th>\n",
       "      <td>4</td>\n",
       "      <td>SupportVectorMachine</td>\n",
       "      <td>0.958333</td>\n",
       "      <td>1.000000</td>\n",
       "      <td>0.001994</td>\n",
       "    </tr>\n",
       "    <tr>\n",
       "      <th>15</th>\n",
       "      <td>0</td>\n",
       "      <td>GaussianNaiveBayes</td>\n",
       "      <td>0.966667</td>\n",
       "      <td>0.933333</td>\n",
       "      <td>0.002994</td>\n",
       "    </tr>\n",
       "    <tr>\n",
       "      <th>16</th>\n",
       "      <td>1</td>\n",
       "      <td>GaussianNaiveBayes</td>\n",
       "      <td>0.958333</td>\n",
       "      <td>0.966667</td>\n",
       "      <td>0.002992</td>\n",
       "    </tr>\n",
       "    <tr>\n",
       "      <th>17</th>\n",
       "      <td>2</td>\n",
       "      <td>GaussianNaiveBayes</td>\n",
       "      <td>0.958333</td>\n",
       "      <td>0.933333</td>\n",
       "      <td>0.003987</td>\n",
       "    </tr>\n",
       "    <tr>\n",
       "      <th>18</th>\n",
       "      <td>3</td>\n",
       "      <td>GaussianNaiveBayes</td>\n",
       "      <td>0.966667</td>\n",
       "      <td>0.933333</td>\n",
       "      <td>0.002991</td>\n",
       "    </tr>\n",
       "    <tr>\n",
       "      <th>19</th>\n",
       "      <td>4</td>\n",
       "      <td>GaussianNaiveBayes</td>\n",
       "      <td>0.958333</td>\n",
       "      <td>1.000000</td>\n",
       "      <td>0.004005</td>\n",
       "    </tr>\n",
       "    <tr>\n",
       "      <th>20</th>\n",
       "      <td>0</td>\n",
       "      <td>KNearestNeighbor</td>\n",
       "      <td>0.966667</td>\n",
       "      <td>0.966667</td>\n",
       "      <td>0.002994</td>\n",
       "    </tr>\n",
       "    <tr>\n",
       "      <th>21</th>\n",
       "      <td>1</td>\n",
       "      <td>KNearestNeighbor</td>\n",
       "      <td>0.966667</td>\n",
       "      <td>1.000000</td>\n",
       "      <td>0.002992</td>\n",
       "    </tr>\n",
       "    <tr>\n",
       "      <th>22</th>\n",
       "      <td>2</td>\n",
       "      <td>KNearestNeighbor</td>\n",
       "      <td>0.975000</td>\n",
       "      <td>0.933333</td>\n",
       "      <td>0.002990</td>\n",
       "    </tr>\n",
       "    <tr>\n",
       "      <th>23</th>\n",
       "      <td>3</td>\n",
       "      <td>KNearestNeighbor</td>\n",
       "      <td>0.975000</td>\n",
       "      <td>0.966667</td>\n",
       "      <td>0.002992</td>\n",
       "    </tr>\n",
       "    <tr>\n",
       "      <th>24</th>\n",
       "      <td>4</td>\n",
       "      <td>KNearestNeighbor</td>\n",
       "      <td>0.966667</td>\n",
       "      <td>1.000000</td>\n",
       "      <td>0.002991</td>\n",
       "    </tr>\n",
       "    <tr>\n",
       "      <th>25</th>\n",
       "      <td>0</td>\n",
       "      <td>RandomForest</td>\n",
       "      <td>1.000000</td>\n",
       "      <td>0.966667</td>\n",
       "      <td>0.195480</td>\n",
       "    </tr>\n",
       "    <tr>\n",
       "      <th>26</th>\n",
       "      <td>1</td>\n",
       "      <td>RandomForest</td>\n",
       "      <td>1.000000</td>\n",
       "      <td>0.966667</td>\n",
       "      <td>0.177527</td>\n",
       "    </tr>\n",
       "    <tr>\n",
       "      <th>27</th>\n",
       "      <td>2</td>\n",
       "      <td>RandomForest</td>\n",
       "      <td>1.000000</td>\n",
       "      <td>0.933333</td>\n",
       "      <td>0.176525</td>\n",
       "    </tr>\n",
       "    <tr>\n",
       "      <th>28</th>\n",
       "      <td>3</td>\n",
       "      <td>RandomForest</td>\n",
       "      <td>1.000000</td>\n",
       "      <td>0.933333</td>\n",
       "      <td>0.174567</td>\n",
       "    </tr>\n",
       "    <tr>\n",
       "      <th>29</th>\n",
       "      <td>4</td>\n",
       "      <td>RandomForest</td>\n",
       "      <td>1.000000</td>\n",
       "      <td>1.000000</td>\n",
       "      <td>0.202410</td>\n",
       "    </tr>\n",
       "    <tr>\n",
       "      <th>30</th>\n",
       "      <td>0</td>\n",
       "      <td>GradientBoosing</td>\n",
       "      <td>1.000000</td>\n",
       "      <td>0.966667</td>\n",
       "      <td>0.348623</td>\n",
       "    </tr>\n",
       "    <tr>\n",
       "      <th>31</th>\n",
       "      <td>1</td>\n",
       "      <td>GradientBoosing</td>\n",
       "      <td>1.000000</td>\n",
       "      <td>0.966667</td>\n",
       "      <td>0.337925</td>\n",
       "    </tr>\n",
       "    <tr>\n",
       "      <th>32</th>\n",
       "      <td>2</td>\n",
       "      <td>GradientBoosing</td>\n",
       "      <td>1.000000</td>\n",
       "      <td>0.900000</td>\n",
       "      <td>0.293206</td>\n",
       "    </tr>\n",
       "    <tr>\n",
       "      <th>33</th>\n",
       "      <td>3</td>\n",
       "      <td>GradientBoosing</td>\n",
       "      <td>1.000000</td>\n",
       "      <td>0.966667</td>\n",
       "      <td>0.271274</td>\n",
       "    </tr>\n",
       "    <tr>\n",
       "      <th>34</th>\n",
       "      <td>4</td>\n",
       "      <td>GradientBoosing</td>\n",
       "      <td>1.000000</td>\n",
       "      <td>1.000000</td>\n",
       "      <td>0.277229</td>\n",
       "    </tr>\n",
       "    <tr>\n",
       "      <th>35</th>\n",
       "      <td>0</td>\n",
       "      <td>NeuralNetwork</td>\n",
       "      <td>0.983333</td>\n",
       "      <td>1.000000</td>\n",
       "      <td>0.734952</td>\n",
       "    </tr>\n",
       "    <tr>\n",
       "      <th>36</th>\n",
       "      <td>1</td>\n",
       "      <td>NeuralNetwork</td>\n",
       "      <td>0.983333</td>\n",
       "      <td>1.000000</td>\n",
       "      <td>0.754515</td>\n",
       "    </tr>\n",
       "    <tr>\n",
       "      <th>37</th>\n",
       "      <td>2</td>\n",
       "      <td>NeuralNetwork</td>\n",
       "      <td>0.983333</td>\n",
       "      <td>0.966667</td>\n",
       "      <td>0.705115</td>\n",
       "    </tr>\n",
       "    <tr>\n",
       "      <th>38</th>\n",
       "      <td>3</td>\n",
       "      <td>NeuralNetwork</td>\n",
       "      <td>0.991667</td>\n",
       "      <td>0.933333</td>\n",
       "      <td>0.761987</td>\n",
       "    </tr>\n",
       "    <tr>\n",
       "      <th>39</th>\n",
       "      <td>4</td>\n",
       "      <td>NeuralNetwork</td>\n",
       "      <td>0.975000</td>\n",
       "      <td>1.000000</td>\n",
       "      <td>0.769966</td>\n",
       "    </tr>\n",
       "  </tbody>\n",
       "</table>\n",
       "</div>"
      ],
      "text/plain": [
       "    iter                method  accuracy_train  accuracy_test  training_time\n",
       "0      0    LogisticRegression        0.966667       0.966667       0.043849\n",
       "1      1    LogisticRegression        0.966667       1.000000       0.044882\n",
       "2      2    LogisticRegression        0.983333       0.933333       0.040893\n",
       "3      3    LogisticRegression        0.983333       0.966667       0.032914\n",
       "4      4    LogisticRegression        0.975000       1.000000       0.033878\n",
       "5      0          DecisionTree        1.000000       0.966667       0.002989\n",
       "6      1          DecisionTree        1.000000       0.966667       0.001997\n",
       "7      2          DecisionTree        1.000000       0.900000       0.001996\n",
       "8      3          DecisionTree        1.000000       0.966667       0.001963\n",
       "9      4          DecisionTree        1.000000       1.000000       0.001992\n",
       "10     0  SupportVectorMachine        0.983333       0.966667       0.002992\n",
       "11     1  SupportVectorMachine        0.958333       0.966667       0.003989\n",
       "12     2  SupportVectorMachine        0.983333       0.966667       0.003989\n",
       "13     3  SupportVectorMachine        0.983333       0.933333       0.003996\n",
       "14     4  SupportVectorMachine        0.958333       1.000000       0.001994\n",
       "15     0    GaussianNaiveBayes        0.966667       0.933333       0.002994\n",
       "16     1    GaussianNaiveBayes        0.958333       0.966667       0.002992\n",
       "17     2    GaussianNaiveBayes        0.958333       0.933333       0.003987\n",
       "18     3    GaussianNaiveBayes        0.966667       0.933333       0.002991\n",
       "19     4    GaussianNaiveBayes        0.958333       1.000000       0.004005\n",
       "20     0      KNearestNeighbor        0.966667       0.966667       0.002994\n",
       "21     1      KNearestNeighbor        0.966667       1.000000       0.002992\n",
       "22     2      KNearestNeighbor        0.975000       0.933333       0.002990\n",
       "23     3      KNearestNeighbor        0.975000       0.966667       0.002992\n",
       "24     4      KNearestNeighbor        0.966667       1.000000       0.002991\n",
       "25     0          RandomForest        1.000000       0.966667       0.195480\n",
       "26     1          RandomForest        1.000000       0.966667       0.177527\n",
       "27     2          RandomForest        1.000000       0.933333       0.176525\n",
       "28     3          RandomForest        1.000000       0.933333       0.174567\n",
       "29     4          RandomForest        1.000000       1.000000       0.202410\n",
       "30     0       GradientBoosing        1.000000       0.966667       0.348623\n",
       "31     1       GradientBoosing        1.000000       0.966667       0.337925\n",
       "32     2       GradientBoosing        1.000000       0.900000       0.293206\n",
       "33     3       GradientBoosing        1.000000       0.966667       0.271274\n",
       "34     4       GradientBoosing        1.000000       1.000000       0.277229\n",
       "35     0         NeuralNetwork        0.983333       1.000000       0.734952\n",
       "36     1         NeuralNetwork        0.983333       1.000000       0.754515\n",
       "37     2         NeuralNetwork        0.983333       0.966667       0.705115\n",
       "38     3         NeuralNetwork        0.991667       0.933333       0.761987\n",
       "39     4         NeuralNetwork        0.975000       1.000000       0.769966"
      ]
     },
     "execution_count": 19,
     "metadata": {},
     "output_type": "execute_result"
    }
   ],
   "source": [
    "df_results =pd.DataFrame(data=results, \n",
    "                columns= ['iter','method','accuracy_train','accuracy_test','training_time'])\n",
    "df_results"
   ]
  },
  {
   "cell_type": "markdown",
   "metadata": {},
   "source": [
    "## 교차검증 결과 통계 계산"
   ]
  },
  {
   "cell_type": "code",
   "execution_count": 20,
   "metadata": {},
   "outputs": [
    {
     "data": {
      "text/html": [
       "<div>\n",
       "<style scoped>\n",
       "    .dataframe tbody tr th:only-of-type {\n",
       "        vertical-align: middle;\n",
       "    }\n",
       "\n",
       "    .dataframe tbody tr th {\n",
       "        vertical-align: top;\n",
       "    }\n",
       "\n",
       "    .dataframe thead th {\n",
       "        text-align: right;\n",
       "    }\n",
       "</style>\n",
       "<table border=\"1\" class=\"dataframe\">\n",
       "  <thead>\n",
       "    <tr style=\"text-align: right;\">\n",
       "      <th></th>\n",
       "      <th>iter</th>\n",
       "      <th>accuracy_train</th>\n",
       "      <th>accuracy_test</th>\n",
       "      <th>training_time</th>\n",
       "    </tr>\n",
       "    <tr>\n",
       "      <th>method</th>\n",
       "      <th></th>\n",
       "      <th></th>\n",
       "      <th></th>\n",
       "      <th></th>\n",
       "    </tr>\n",
       "  </thead>\n",
       "  <tbody>\n",
       "    <tr>\n",
       "      <th>DecisionTree</th>\n",
       "      <td>2</td>\n",
       "      <td>1.000000</td>\n",
       "      <td>0.960000</td>\n",
       "      <td>0.002187</td>\n",
       "    </tr>\n",
       "    <tr>\n",
       "      <th>GaussianNaiveBayes</th>\n",
       "      <td>2</td>\n",
       "      <td>0.961667</td>\n",
       "      <td>0.953333</td>\n",
       "      <td>0.003394</td>\n",
       "    </tr>\n",
       "    <tr>\n",
       "      <th>GradientBoosing</th>\n",
       "      <td>2</td>\n",
       "      <td>1.000000</td>\n",
       "      <td>0.960000</td>\n",
       "      <td>0.305652</td>\n",
       "    </tr>\n",
       "    <tr>\n",
       "      <th>KNearestNeighbor</th>\n",
       "      <td>2</td>\n",
       "      <td>0.970000</td>\n",
       "      <td>0.973333</td>\n",
       "      <td>0.002992</td>\n",
       "    </tr>\n",
       "    <tr>\n",
       "      <th>LogisticRegression</th>\n",
       "      <td>2</td>\n",
       "      <td>0.975000</td>\n",
       "      <td>0.973333</td>\n",
       "      <td>0.039283</td>\n",
       "    </tr>\n",
       "    <tr>\n",
       "      <th>NeuralNetwork</th>\n",
       "      <td>2</td>\n",
       "      <td>0.983333</td>\n",
       "      <td>0.980000</td>\n",
       "      <td>0.745307</td>\n",
       "    </tr>\n",
       "    <tr>\n",
       "      <th>RandomForest</th>\n",
       "      <td>2</td>\n",
       "      <td>1.000000</td>\n",
       "      <td>0.960000</td>\n",
       "      <td>0.185302</td>\n",
       "    </tr>\n",
       "    <tr>\n",
       "      <th>SupportVectorMachine</th>\n",
       "      <td>2</td>\n",
       "      <td>0.973333</td>\n",
       "      <td>0.966667</td>\n",
       "      <td>0.003392</td>\n",
       "    </tr>\n",
       "  </tbody>\n",
       "</table>\n",
       "</div>"
      ],
      "text/plain": [
       "                      iter  accuracy_train  accuracy_test  training_time\n",
       "method                                                                  \n",
       "DecisionTree             2        1.000000       0.960000       0.002187\n",
       "GaussianNaiveBayes       2        0.961667       0.953333       0.003394\n",
       "GradientBoosing          2        1.000000       0.960000       0.305652\n",
       "KNearestNeighbor         2        0.970000       0.973333       0.002992\n",
       "LogisticRegression       2        0.975000       0.973333       0.039283\n",
       "NeuralNetwork            2        0.983333       0.980000       0.745307\n",
       "RandomForest             2        1.000000       0.960000       0.185302\n",
       "SupportVectorMachine     2        0.973333       0.966667       0.003392"
      ]
     },
     "execution_count": 20,
     "metadata": {},
     "output_type": "execute_result"
    }
   ],
   "source": [
    "df_results.groupby('method').mean()"
   ]
  },
  {
   "cell_type": "code",
   "execution_count": 21,
   "metadata": {},
   "outputs": [
    {
     "data": {
      "text/html": [
       "<div>\n",
       "<style scoped>\n",
       "    .dataframe tbody tr th:only-of-type {\n",
       "        vertical-align: middle;\n",
       "    }\n",
       "\n",
       "    .dataframe tbody tr th {\n",
       "        vertical-align: top;\n",
       "    }\n",
       "\n",
       "    .dataframe thead th {\n",
       "        text-align: right;\n",
       "    }\n",
       "</style>\n",
       "<table border=\"1\" class=\"dataframe\">\n",
       "  <thead>\n",
       "    <tr style=\"text-align: right;\">\n",
       "      <th></th>\n",
       "      <th>iter</th>\n",
       "      <th>accuracy_train</th>\n",
       "      <th>accuracy_test</th>\n",
       "      <th>training_time</th>\n",
       "    </tr>\n",
       "    <tr>\n",
       "      <th>method</th>\n",
       "      <th></th>\n",
       "      <th></th>\n",
       "      <th></th>\n",
       "      <th></th>\n",
       "    </tr>\n",
       "  </thead>\n",
       "  <tbody>\n",
       "    <tr>\n",
       "      <th>DecisionTree</th>\n",
       "      <td>0.707107</td>\n",
       "      <td>0.000000</td>\n",
       "      <td>0.016330</td>\n",
       "      <td>2.004365e-04</td>\n",
       "    </tr>\n",
       "    <tr>\n",
       "      <th>GaussianNaiveBayes</th>\n",
       "      <td>0.707107</td>\n",
       "      <td>0.002041</td>\n",
       "      <td>0.013333</td>\n",
       "      <td>2.458337e-04</td>\n",
       "    </tr>\n",
       "    <tr>\n",
       "      <th>GradientBoosing</th>\n",
       "      <td>0.707107</td>\n",
       "      <td>0.000000</td>\n",
       "      <td>0.016330</td>\n",
       "      <td>1.586290e-02</td>\n",
       "    </tr>\n",
       "    <tr>\n",
       "      <th>KNearestNeighbor</th>\n",
       "      <td>0.707107</td>\n",
       "      <td>0.002041</td>\n",
       "      <td>0.012472</td>\n",
       "      <td>5.810765e-07</td>\n",
       "    </tr>\n",
       "    <tr>\n",
       "      <th>LogisticRegression</th>\n",
       "      <td>0.707107</td>\n",
       "      <td>0.003727</td>\n",
       "      <td>0.012472</td>\n",
       "      <td>2.495629e-03</td>\n",
       "    </tr>\n",
       "    <tr>\n",
       "      <th>NeuralNetwork</th>\n",
       "      <td>0.707107</td>\n",
       "      <td>0.002635</td>\n",
       "      <td>0.013333</td>\n",
       "      <td>1.160543e-02</td>\n",
       "    </tr>\n",
       "    <tr>\n",
       "      <th>RandomForest</th>\n",
       "      <td>0.707107</td>\n",
       "      <td>0.000000</td>\n",
       "      <td>0.012472</td>\n",
       "      <td>5.696479e-03</td>\n",
       "    </tr>\n",
       "    <tr>\n",
       "      <th>SupportVectorMachine</th>\n",
       "      <td>0.707107</td>\n",
       "      <td>0.006124</td>\n",
       "      <td>0.010541</td>\n",
       "      <td>3.995975e-04</td>\n",
       "    </tr>\n",
       "  </tbody>\n",
       "</table>\n",
       "</div>"
      ],
      "text/plain": [
       "                          iter  accuracy_train  accuracy_test  training_time\n",
       "method                                                                      \n",
       "DecisionTree          0.707107        0.000000       0.016330   2.004365e-04\n",
       "GaussianNaiveBayes    0.707107        0.002041       0.013333   2.458337e-04\n",
       "GradientBoosing       0.707107        0.000000       0.016330   1.586290e-02\n",
       "KNearestNeighbor      0.707107        0.002041       0.012472   5.810765e-07\n",
       "LogisticRegression    0.707107        0.003727       0.012472   2.495629e-03\n",
       "NeuralNetwork         0.707107        0.002635       0.013333   1.160543e-02\n",
       "RandomForest          0.707107        0.000000       0.012472   5.696479e-03\n",
       "SupportVectorMachine  0.707107        0.006124       0.010541   3.995975e-04"
      ]
     },
     "execution_count": 21,
     "metadata": {},
     "output_type": "execute_result"
    }
   ],
   "source": [
    "df_results.groupby('method').sem()"
   ]
  },
  {
   "cell_type": "markdown",
   "metadata": {},
   "source": [
    "## 테스트 데이터셋 정확도 플랏"
   ]
  },
  {
   "cell_type": "code",
   "execution_count": 22,
   "metadata": {},
   "outputs": [
    {
     "data": {
      "image/png": "[encoded data removed]",
      "text/plain": [
       "<Figure size 432x288 with 1 Axes>"
      ]
     },
     "metadata": {
      "needs_background": "light"
     },
     "output_type": "display_data"
    }
   ],
   "source": [
    "import seaborn as sns\n",
    "ax = sns.barplot(x=\"method\", y=\"accuracy_test\", data=df_results, capsize=.2, \n",
    "                 order=df_results.groupby('method').mean().sort_values('accuracy_test').index)\n",
    "ax.set(ylim=(0.90, 1.01))\n",
    "ax.set_xticklabels(ax.get_xticklabels(),rotation=30);"
   ]
  },
  {
   "cell_type": "markdown",
   "metadata": {},
   "source": [
    "## 훈련 데이터셋 정확도 플랏"
   ]
  },
  {
   "cell_type": "code",
   "execution_count": 23,
   "metadata": {},
   "outputs": [
    {
     "data": {
      "image/png": "[encoded data removed]",
      "text/plain": [
       "<Figure size 432x288 with 1 Axes>"
      ]
     },
     "metadata": {
      "needs_background": "light"
     },
     "output_type": "display_data"
    }
   ],
   "source": [
    "import seaborn as sns\n",
    "ax = sns.barplot(x=\"method\", y=\"accuracy_train\", data=df_results, capsize=.2, \n",
    "                 order=df_results.groupby('method').mean().sort_values('accuracy_train').index)\n",
    "ax.set(ylim=(0.90, 1.01))\n",
    "ax.set_xticklabels(ax.get_xticklabels(),rotation=30);"
   ]
  },
  {
   "cell_type": "markdown",
   "metadata": {},
   "source": [
    "## 훈련-테스트 데이터셋 정확도 플랏"
   ]
  },
  {
   "cell_type": "code",
   "execution_count": 24,
   "metadata": {},
   "outputs": [
    {
     "data": {
      "image/png": "[encoded data removed]",
      "text/plain": [
       "<Figure size 432x288 with 1 Axes>"
      ]
     },
     "metadata": {
      "needs_background": "light"
     },
     "output_type": "display_data"
    }
   ],
   "source": [
    "import seaborn as sns\n",
    "tidy = df_results[['method', 'accuracy_train', 'accuracy_test']].melt(id_vars='method').rename(columns=str.title)\n",
    "ax = sns.barplot(x=\"Method\", y=\"Value\", hue='Variable', data=tidy, capsize=.2, \n",
    "                 order=df_results.groupby('method').mean().sort_values('accuracy_test').index)\n",
    "ax.set(ylim=(0.90, 1.01))\n",
    "ax.set_xticklabels(ax.get_xticklabels(),rotation=30);"
   ]
  },
  {
   "cell_type": "markdown",
   "metadata": {},
   "source": [
    "## 학습 시간 플랏"
   ]
  },
  {
   "cell_type": "code",
   "execution_count": 25,
   "metadata": {},
   "outputs": [
    {
     "data": {
      "image/png": "[encoded data removed]",
      "text/plain": [
       "<Figure size 432x288 with 1 Axes>"
      ]
     },
     "metadata": {
      "needs_background": "light"
     },
     "output_type": "display_data"
    }
   ],
   "source": [
    "import seaborn as sns\n",
    "ax = sns.barplot(x=\"method\", y=\"training_time\", data=df_results, capsize=.2, \n",
    "                 order=df_results.groupby('method').mean().sort_values('training_time').index)\n",
    "#ax.set(ylim=(0.90, 1.01))\n",
    "ax.set_xticklabels(ax.get_xticklabels(),rotation=30);"
   ]
  },
  {
   "cell_type": "code",
   "execution_count": 4,
   "metadata": {},
   "outputs": [
    {
     "ename": "SyntaxError",
     "evalue": "invalid non-printable character U+00A0 (726008944.py, line 1)",
     "output_type": "error",
     "traceback": [
      "\u001b[1;36m  Cell \u001b[1;32mIn[4], line 1\u001b[1;36m\u001b[0m\n\u001b[1;33m    from sklearn.datasets import load_wine # scikit-learn의 샘플 데이터 로드를 위해 import\u001b[0m\n\u001b[1;37m        ^\u001b[0m\n\u001b[1;31mSyntaxError\u001b[0m\u001b[1;31m:\u001b[0m invalid non-printable character U+00A0\n"
     ]
    }
   ],
   "source": [
    "from sklearn.datasets import load_wine # scikit-learn의 샘플 데이터 로드를 위해 import\n",
    "import pandas as pd # 데이터 프레임으로 변환을 위해 임포트\n",
    "import numpy as np # 고수학 연산을 위해 임포트\n",
    "\n",
    "wine = load_wine() # sample data load\n",
    "\n",
    "# np.c_ is the numpy concatenate function\n",
    "df = pd.DataFrame(data= np.c_[wine['data'], wine['target']],\n",
    "                     columns= wine['feature_names'] + ['target'])\n",
    "\n",
    "# 0.0, 1.0, 2.0으로 표현된 label을 문자열로 매핑\n",
    "df['target'] = df['target'].map(dict(zip(range(3),wine.target_names)))\n"
   ]
  },
  {
   "cell_type": "code",
   "execution_count": null,
   "metadata": {},
   "outputs": [],
   "source": []
  },
  {
   "cell_type": "code",
   "execution_count": null,
   "metadata": {},
   "outputs": [],
   "source": []
  }
 ],
 "metadata": {
  "kernelspec": {
   "display_name": "Python 3 (ipykernel)",
   "language": "python",
   "name": "python3"
  },
  "language_info": {
   "codemirror_mode": {
    "name": "ipython",
    "version": 3
   },
   "file_extension": ".py",
   "mimetype": "text/x-python",
   "name": "python",
   "nbconvert_exporter": "python",
   "pygments_lexer": "ipython3",
   "version": "3.12.7"
  }
 },
 "nbformat": 4,
 "nbformat_minor": 4
}
